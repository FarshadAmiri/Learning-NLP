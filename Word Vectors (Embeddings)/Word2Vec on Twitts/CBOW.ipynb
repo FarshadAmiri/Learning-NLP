{
 "cells": [
  {
   "cell_type": "code",
   "execution_count": 1,
   "id": "706aadd9",
   "metadata": {},
   "outputs": [],
   "source": [
    "import pandas as pd\n",
    "import numpy as np"
   ]
  },
  {
   "cell_type": "code",
   "execution_count": null,
   "id": "a79f51bf",
   "metadata": {},
   "outputs": [],
   "source": [
    "ds = pd.read_csv(\"train.csv\")\n",
    "ds"
   ]
  },
  {
   "cell_type": "code",
   "execution_count": 19,
   "id": "6a4585b3",
   "metadata": {},
   "outputs": [
    {
     "data": {
      "text/plain": [
       "3                                                                                                                                                 4\n",
       "Wall St. Bears Claw Back Into the Black (Reuters)                                                 Viewer's Guide: Perseid Meteor Shower Peaks Au...\n",
       "Reuters - Short-sellers, Wall Street's dwindling\\band of ultra-cynics, are seeing green again.    SPACE.com - Every August, when many \\  people ...\n",
       "Name: 110, dtype: object"
      ]
     },
     "execution_count": 19,
     "metadata": {},
     "output_type": "execute_result"
    }
   ],
   "source": [
    "ds.loc[110]"
   ]
  },
  {
   "cell_type": "code",
   "execution_count": null,
   "id": "f96a3f79",
   "metadata": {},
   "outputs": [],
   "source": []
  }
 ],
 "metadata": {
  "kernelspec": {
   "display_name": "Python 3 (ipykernel)",
   "language": "python",
   "name": "python3"
  },
  "language_info": {
   "codemirror_mode": {
    "name": "ipython",
    "version": 3
   },
   "file_extension": ".py",
   "mimetype": "text/x-python",
   "name": "python",
   "nbconvert_exporter": "python",
   "pygments_lexer": "ipython3",
   "version": "3.9.5"
  }
 },
 "nbformat": 4,
 "nbformat_minor": 5
}
