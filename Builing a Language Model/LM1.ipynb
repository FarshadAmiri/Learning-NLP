{
 "cells": [
  {
   "cell_type": "code",
   "execution_count": 1,
   "id": "80f951d5-705d-48ba-912c-f8bc93910a12",
   "metadata": {
    "ExecuteTime": {
     "end_time": "2023-08-14T06:05:53.771150Z",
     "start_time": "2023-08-14T06:05:52.037895500Z"
    }
   },
   "outputs": [
    {
     "name": "stderr",
     "output_type": "stream",
     "text": [
      "[nltk_data] Downloading package punkt to\n",
      "[nltk_data]     C:\\Users\\user2\\AppData\\Roaming\\nltk_data...\n",
      "[nltk_data]   Package punkt is already up-to-date!\n"
     ]
    },
    {
     "data": {
      "text/plain": "True"
     },
     "execution_count": 1,
     "metadata": {},
     "output_type": "execute_result"
    }
   ],
   "source": [
    "from gensim.models import Word2Vec\n",
    "from nltk.tokenize import word_tokenize\n",
    "import nltk\n",
    "nltk.download('punkt')"
   ]
  },
  {
   "cell_type": "code",
   "execution_count": 2,
   "id": "51b5ae3e-d95a-4dd6-b352-84392af963a2",
   "metadata": {
    "ExecuteTime": {
     "end_time": "2023-08-14T06:05:59.377248600Z",
     "start_time": "2023-08-14T06:05:59.370243700Z"
    }
   },
   "outputs": [],
   "source": [
    "# Define your corpus of text\n",
    "corpus = [\n",
    "    \"This is the first sentence.\",\n",
    "    \"Here comes the second sentence.\",\n",
    "    \"Finally, the third sentence arrives.\",\n",
    "    # Add more sentences here...\n",
    "]"
   ]
  },
  {
   "cell_type": "code",
   "execution_count": 3,
   "id": "98fc791b-5724-489a-8816-8e08bf5e4b8b",
   "metadata": {
    "ExecuteTime": {
     "end_time": "2023-08-14T06:06:00.213115300Z",
     "start_time": "2023-08-14T06:06:00.194622200Z"
    }
   },
   "outputs": [],
   "source": [
    "# Tokenize the sentences in your corpus\n",
    "tokenized_corpus = [word_tokenize(sentence) for sentence in corpus]"
   ]
  },
  {
   "cell_type": "code",
   "execution_count": 5,
   "id": "4e5704ce-e230-4dcb-a88e-3ed1de163369",
   "metadata": {
    "ExecuteTime": {
     "end_time": "2023-08-14T06:10:50.213223Z",
     "start_time": "2023-08-14T06:10:50.008359700Z"
    }
   },
   "outputs": [],
   "source": [
    "# Train the Word2Vec model\n",
    "model = Word2Vec(sentences=tokenized_corpus, vector_size=100, window=5, min_count=1, workers=4)"
   ]
  },
  {
   "cell_type": "code",
   "execution_count": 6,
   "id": "18fbb56c-2e73-4d24-9864-a5552e3068e9",
   "metadata": {
    "ExecuteTime": {
     "end_time": "2023-08-14T06:10:53.389963300Z",
     "start_time": "2023-08-14T06:10:53.388958300Z"
    }
   },
   "outputs": [],
   "source": [
    "# Test the model\n",
    "sentence = \"This is an example sentence.\"\n",
    "input_tokens = word_tokenize(sentence)"
   ]
  },
  {
   "cell_type": "code",
   "execution_count": 7,
   "id": "fab968d1-26e5-4846-9a71-e19278a8cb12",
   "metadata": {
    "ExecuteTime": {
     "end_time": "2023-08-14T06:10:55.101969200Z",
     "start_time": "2023-08-14T06:10:54.964434400Z"
    }
   },
   "outputs": [
    {
     "name": "stdout",
     "output_type": "stream",
     "text": [
      "Similar words for 'This': [('third', 0.15016557276248932), ('first', 0.12813477218151093), ('.', 0.0931011214852333), ('the', 0.04652618244290352), ('Finally', 0.0007307013729587197), ('sentence', -0.0036444426514208317), ('arrives', -0.009249808266758919), ('is', -0.03030233457684517), ('comes', -0.040441352874040604), ('second', -0.04090544953942299)]\n",
      "Similar words for 'is': [('the', 0.17272792756557465), (',', 0.16694247722625732), ('second', 0.11117952316999435), ('first', 0.10941851139068604), ('.', 0.079634889960289), ('arrives', 0.04130798950791359), ('comes', 0.037712957710027695), ('sentence', 0.00831594504415989), ('third', -0.00590914860367775), ('This', -0.03030233643949032)]\n"
     ]
    },
    {
     "ename": "KeyError",
     "evalue": "\"Key 'an' not present in vocabulary\"",
     "output_type": "error",
     "traceback": [
      "\u001B[1;31m---------------------------------------------------------------------------\u001B[0m",
      "\u001B[1;31mKeyError\u001B[0m                                  Traceback (most recent call last)",
      "Cell \u001B[1;32mIn[7], line 3\u001B[0m\n\u001B[0;32m      1\u001B[0m \u001B[38;5;66;03m# Find most similar words for each input token\u001B[39;00m\n\u001B[0;32m      2\u001B[0m \u001B[38;5;28;01mfor\u001B[39;00m token \u001B[38;5;129;01min\u001B[39;00m input_tokens:\n\u001B[1;32m----> 3\u001B[0m     similar_words \u001B[38;5;241m=\u001B[39m \u001B[43mmodel\u001B[49m\u001B[38;5;241;43m.\u001B[39;49m\u001B[43mwv\u001B[49m\u001B[38;5;241;43m.\u001B[39;49m\u001B[43mmost_similar\u001B[49m\u001B[43m(\u001B[49m\u001B[43mtoken\u001B[49m\u001B[43m)\u001B[49m\n\u001B[0;32m      4\u001B[0m     \u001B[38;5;28mprint\u001B[39m(\u001B[38;5;124mf\u001B[39m\u001B[38;5;124m\"\u001B[39m\u001B[38;5;124mSimilar words for \u001B[39m\u001B[38;5;124m'\u001B[39m\u001B[38;5;132;01m{\u001B[39;00mtoken\u001B[38;5;132;01m}\u001B[39;00m\u001B[38;5;124m'\u001B[39m\u001B[38;5;124m: \u001B[39m\u001B[38;5;132;01m{\u001B[39;00msimilar_words\u001B[38;5;132;01m}\u001B[39;00m\u001B[38;5;124m\"\u001B[39m)\n",
      "File \u001B[1;32mD:\\NLP 1\\venv\\Lib\\site-packages\\gensim\\models\\keyedvectors.py:841\u001B[0m, in \u001B[0;36mKeyedVectors.most_similar\u001B[1;34m(self, positive, negative, topn, clip_start, clip_end, restrict_vocab, indexer)\u001B[0m\n\u001B[0;32m    838\u001B[0m         weight[idx] \u001B[38;5;241m=\u001B[39m item[\u001B[38;5;241m1\u001B[39m]\n\u001B[0;32m    840\u001B[0m \u001B[38;5;66;03m# compute the weighted average of all keys\u001B[39;00m\n\u001B[1;32m--> 841\u001B[0m mean \u001B[38;5;241m=\u001B[39m \u001B[38;5;28;43mself\u001B[39;49m\u001B[38;5;241;43m.\u001B[39;49m\u001B[43mget_mean_vector\u001B[49m\u001B[43m(\u001B[49m\u001B[43mkeys\u001B[49m\u001B[43m,\u001B[49m\u001B[43m \u001B[49m\u001B[43mweight\u001B[49m\u001B[43m,\u001B[49m\u001B[43m \u001B[49m\u001B[43mpre_normalize\u001B[49m\u001B[38;5;241;43m=\u001B[39;49m\u001B[38;5;28;43;01mTrue\u001B[39;49;00m\u001B[43m,\u001B[49m\u001B[43m \u001B[49m\u001B[43mpost_normalize\u001B[49m\u001B[38;5;241;43m=\u001B[39;49m\u001B[38;5;28;43;01mTrue\u001B[39;49;00m\u001B[43m,\u001B[49m\u001B[43m \u001B[49m\u001B[43mignore_missing\u001B[49m\u001B[38;5;241;43m=\u001B[39;49m\u001B[38;5;28;43;01mFalse\u001B[39;49;00m\u001B[43m)\u001B[49m\n\u001B[0;32m    842\u001B[0m all_keys \u001B[38;5;241m=\u001B[39m [\n\u001B[0;32m    843\u001B[0m     \u001B[38;5;28mself\u001B[39m\u001B[38;5;241m.\u001B[39mget_index(key) \u001B[38;5;28;01mfor\u001B[39;00m key \u001B[38;5;129;01min\u001B[39;00m keys \u001B[38;5;28;01mif\u001B[39;00m \u001B[38;5;28misinstance\u001B[39m(key, _KEY_TYPES) \u001B[38;5;129;01mand\u001B[39;00m \u001B[38;5;28mself\u001B[39m\u001B[38;5;241m.\u001B[39mhas_index_for(key)\n\u001B[0;32m    844\u001B[0m ]\n\u001B[0;32m    846\u001B[0m \u001B[38;5;28;01mif\u001B[39;00m indexer \u001B[38;5;129;01mis\u001B[39;00m \u001B[38;5;129;01mnot\u001B[39;00m \u001B[38;5;28;01mNone\u001B[39;00m \u001B[38;5;129;01mand\u001B[39;00m \u001B[38;5;28misinstance\u001B[39m(topn, \u001B[38;5;28mint\u001B[39m):\n",
      "File \u001B[1;32mD:\\NLP 1\\venv\\Lib\\site-packages\\gensim\\models\\keyedvectors.py:518\u001B[0m, in \u001B[0;36mKeyedVectors.get_mean_vector\u001B[1;34m(self, keys, weights, pre_normalize, post_normalize, ignore_missing)\u001B[0m\n\u001B[0;32m    516\u001B[0m         total_weight \u001B[38;5;241m+\u001B[39m\u001B[38;5;241m=\u001B[39m \u001B[38;5;28mabs\u001B[39m(weights[idx])\n\u001B[0;32m    517\u001B[0m     \u001B[38;5;28;01melif\u001B[39;00m \u001B[38;5;129;01mnot\u001B[39;00m ignore_missing:\n\u001B[1;32m--> 518\u001B[0m         \u001B[38;5;28;01mraise\u001B[39;00m \u001B[38;5;167;01mKeyError\u001B[39;00m(\u001B[38;5;124mf\u001B[39m\u001B[38;5;124m\"\u001B[39m\u001B[38;5;124mKey \u001B[39m\u001B[38;5;124m'\u001B[39m\u001B[38;5;132;01m{\u001B[39;00mkey\u001B[38;5;132;01m}\u001B[39;00m\u001B[38;5;124m'\u001B[39m\u001B[38;5;124m not present in vocabulary\u001B[39m\u001B[38;5;124m\"\u001B[39m)\n\u001B[0;32m    520\u001B[0m \u001B[38;5;28;01mif\u001B[39;00m total_weight \u001B[38;5;241m>\u001B[39m \u001B[38;5;241m0\u001B[39m:\n\u001B[0;32m    521\u001B[0m     mean \u001B[38;5;241m=\u001B[39m mean \u001B[38;5;241m/\u001B[39m total_weight\n",
      "\u001B[1;31mKeyError\u001B[0m: \"Key 'an' not present in vocabulary\""
     ]
    }
   ],
   "source": [
    "# Find most similar words for each input token\n",
    "for token in input_tokens:\n",
    "    similar_words = model.wv.most_similar(token)\n",
    "    print(f\"Similar words for '{token}': {similar_words}\")"
   ]
  },
  {
   "cell_type": "markdown",
   "id": "6fc3e9fc-a61d-45e9-9b14-3923ade829d3",
   "metadata": {},
   "source": [
    "<b>Train a Language Model</b>"
   ]
  },
  {
   "cell_type": "code",
   "execution_count": 1,
   "id": "616f21df-224b-4e2a-8ffc-53ef587ede78",
   "metadata": {},
   "outputs": [],
   "source": [
    "import numpy as np\n",
    "from keras.models import Sequential\n",
    "from keras.layers import LSTM, Dense"
   ]
  },
  {
   "cell_type": "code",
   "execution_count": 2,
   "id": "fbe33f3b-acba-4d89-b273-c9cf11493cce",
   "metadata": {},
   "outputs": [],
   "source": [
    "# Example text data\n",
    "text = \"\"\"\n",
    "Lorem ipsum dolor sit amet, consectetur adipiscing elit.\n",
    "Pellentesque posuere aliquet dui, in efficitur massa feugiat id.\n",
    "Nam imperdiet ullamcorper vestibulum. In commodo metus tortor,\n",
    "eget fringilla ante congue commodo.\n",
    "\"\"\""
   ]
  },
  {
   "cell_type": "code",
   "execution_count": 3,
   "id": "a6d5f47f-f323-45f0-828f-d818e1558cfd",
   "metadata": {},
   "outputs": [],
   "source": [
    "# Preprocess the text data\n",
    "chars = sorted(list(set(text)))\n",
    "char_to_int = dict((c, i) for i, c in enumerate(chars))"
   ]
  },
  {
   "cell_type": "code",
   "execution_count": 4,
   "id": "85188676-4988-437e-b9f5-515b2f43631d",
   "metadata": {},
   "outputs": [],
   "source": [
    "# Prepare the training data\n",
    "input_len = 100  # Length of input sequence\n",
    "data_X = []\n",
    "data_y = []\n",
    "for i in range(0, len(text) - input_len, 1):\n",
    "    seq_in = text[i:i + input_len]\n",
    "    seq_out = text[i + input_len]\n",
    "    data_X.append([char_to_int[char] for char in seq_in])\n",
    "    data_y.append(char_to_int[seq_out])\n",
    "n_patterns = len(data_X)"
   ]
  },
  {
   "cell_type": "code",
   "execution_count": 5,
   "id": "080c0d8d-ac0a-47f0-b332-3eee8d225e6f",
   "metadata": {},
   "outputs": [],
   "source": [
    "# Reshape and normalize input data\n",
    "X = np.reshape(data_X, (n_patterns, input_len, 1))\n",
    "X = X / float(len(chars))"
   ]
  },
  {
   "cell_type": "code",
   "execution_count": 7,
   "id": "6e4c2fa9-96d9-4ec1-9cde-4a95c4ec7932",
   "metadata": {},
   "outputs": [],
   "source": [
    "# One-hot encode output labels\n",
    "y = np.zeros((n_patterns, len(chars)))\n",
    "y[np.arange(n_patterns), data_y] = 1"
   ]
  },
  {
   "cell_type": "code",
   "execution_count": 8,
   "id": "8bdc5b40-9192-4031-8b49-9ae638264956",
   "metadata": {},
   "outputs": [],
   "source": [
    "# Define the RNN model\n",
    "model = Sequential()\n",
    "model.add(LSTM(256, input_shape=(X.shape[1], X.shape[2])))\n",
    "model.add(Dense(len(chars), activation=\"softmax\"))\n",
    "model.compile(loss=\"categorical_crossentropy\", optimizer=\"adam\")"
   ]
  },
  {
   "cell_type": "code",
   "execution_count": 9,
   "id": "ba39f10f-92e1-4ac1-82c7-568cde0b4d7b",
   "metadata": {},
   "outputs": [
    {
     "name": "stdout",
     "output_type": "stream",
     "text": [
      "Epoch 1/100\n",
      "1/1 [==============================] - 2s 2s/step - loss: 3.2893\n",
      "Epoch 2/100\n",
      "1/1 [==============================] - 0s 195ms/step - loss: 3.2627\n",
      "Epoch 3/100\n",
      "1/1 [==============================] - 0s 181ms/step - loss: 3.2338\n",
      "Epoch 4/100\n",
      "1/1 [==============================] - 0s 196ms/step - loss: 3.1951\n",
      "Epoch 5/100\n",
      "1/1 [==============================] - 0s 189ms/step - loss: 3.1248\n",
      "Epoch 6/100\n",
      "1/1 [==============================] - 0s 202ms/step - loss: 3.0241\n",
      "Epoch 7/100\n",
      "1/1 [==============================] - 0s 175ms/step - loss: 3.0157\n",
      "Epoch 8/100\n",
      "1/1 [==============================] - 0s 191ms/step - loss: 2.9728\n",
      "Epoch 9/100\n",
      "1/1 [==============================] - 0s 198ms/step - loss: 2.9707\n",
      "Epoch 10/100\n",
      "1/1 [==============================] - 0s 184ms/step - loss: 2.9705\n",
      "Epoch 11/100\n",
      "1/1 [==============================] - 0s 202ms/step - loss: 2.9655\n",
      "Epoch 12/100\n",
      "1/1 [==============================] - 0s 194ms/step - loss: 2.9585\n",
      "Epoch 13/100\n",
      "1/1 [==============================] - 0s 207ms/step - loss: 2.9519\n",
      "Epoch 14/100\n",
      "1/1 [==============================] - 0s 207ms/step - loss: 2.9478\n",
      "Epoch 15/100\n",
      "1/1 [==============================] - 0s 179ms/step - loss: 2.9451\n",
      "Epoch 16/100\n",
      "1/1 [==============================] - 0s 231ms/step - loss: 2.9430\n",
      "Epoch 17/100\n",
      "1/1 [==============================] - 0s 209ms/step - loss: 2.9419\n",
      "Epoch 18/100\n",
      "1/1 [==============================] - 0s 200ms/step - loss: 2.9413\n",
      "Epoch 19/100\n",
      "1/1 [==============================] - 0s 184ms/step - loss: 2.9401\n",
      "Epoch 20/100\n",
      "1/1 [==============================] - 0s 201ms/step - loss: 2.9379\n",
      "Epoch 21/100\n",
      "1/1 [==============================] - 0s 215ms/step - loss: 2.9356\n",
      "Epoch 22/100\n",
      "1/1 [==============================] - 0s 217ms/step - loss: 2.9340\n",
      "Epoch 23/100\n",
      "1/1 [==============================] - 0s 205ms/step - loss: 2.9334\n",
      "Epoch 24/100\n",
      "1/1 [==============================] - 0s 199ms/step - loss: 2.9335\n",
      "Epoch 25/100\n",
      "1/1 [==============================] - 0s 208ms/step - loss: 2.9336\n",
      "Epoch 26/100\n",
      "1/1 [==============================] - 0s 202ms/step - loss: 2.9334\n",
      "Epoch 27/100\n",
      "1/1 [==============================] - 0s 233ms/step - loss: 2.9328\n",
      "Epoch 28/100\n",
      "1/1 [==============================] - 0s 215ms/step - loss: 2.9319\n",
      "Epoch 29/100\n",
      "1/1 [==============================] - 0s 204ms/step - loss: 2.9309\n",
      "Epoch 30/100\n",
      "1/1 [==============================] - 0s 203ms/step - loss: 2.9301\n",
      "Epoch 31/100\n",
      "1/1 [==============================] - 0s 202ms/step - loss: 2.9295\n",
      "Epoch 32/100\n",
      "1/1 [==============================] - 0s 216ms/step - loss: 2.9292\n",
      "Epoch 33/100\n",
      "1/1 [==============================] - 0s 232ms/step - loss: 2.9290\n",
      "Epoch 34/100\n",
      "1/1 [==============================] - 0s 212ms/step - loss: 2.9288\n",
      "Epoch 35/100\n",
      "1/1 [==============================] - 0s 193ms/step - loss: 2.9284\n",
      "Epoch 36/100\n",
      "1/1 [==============================] - 0s 215ms/step - loss: 2.9279\n",
      "Epoch 37/100\n",
      "1/1 [==============================] - 0s 244ms/step - loss: 2.9273\n",
      "Epoch 38/100\n",
      "1/1 [==============================] - 0s 208ms/step - loss: 2.9268\n",
      "Epoch 39/100\n",
      "1/1 [==============================] - 0s 217ms/step - loss: 2.9265\n",
      "Epoch 40/100\n",
      "1/1 [==============================] - 0s 200ms/step - loss: 2.9262\n",
      "Epoch 41/100\n",
      "1/1 [==============================] - 0s 216ms/step - loss: 2.9259\n",
      "Epoch 42/100\n",
      "1/1 [==============================] - 0s 230ms/step - loss: 2.9255\n",
      "Epoch 43/100\n",
      "1/1 [==============================] - 0s 211ms/step - loss: 2.9251\n",
      "Epoch 44/100\n",
      "1/1 [==============================] - 0s 188ms/step - loss: 2.9246\n",
      "Epoch 45/100\n",
      "1/1 [==============================] - 0s 206ms/step - loss: 2.9241\n",
      "Epoch 46/100\n",
      "1/1 [==============================] - 0s 193ms/step - loss: 2.9236\n",
      "Epoch 47/100\n",
      "1/1 [==============================] - 0s 207ms/step - loss: 2.9231\n",
      "Epoch 48/100\n",
      "1/1 [==============================] - 0s 208ms/step - loss: 2.9226\n",
      "Epoch 49/100\n",
      "1/1 [==============================] - 0s 193ms/step - loss: 2.9221\n",
      "Epoch 50/100\n",
      "1/1 [==============================] - 0s 208ms/step - loss: 2.9216\n",
      "Epoch 51/100\n",
      "1/1 [==============================] - 0s 192ms/step - loss: 2.9209\n",
      "Epoch 52/100\n",
      "1/1 [==============================] - 0s 208ms/step - loss: 2.9201\n",
      "Epoch 53/100\n",
      "1/1 [==============================] - 0s 200ms/step - loss: 2.9193\n",
      "Epoch 54/100\n",
      "1/1 [==============================] - 0s 217ms/step - loss: 2.9186\n",
      "Epoch 55/100\n",
      "1/1 [==============================] - 0s 215ms/step - loss: 2.9179\n",
      "Epoch 56/100\n",
      "1/1 [==============================] - 0s 233ms/step - loss: 2.9184\n",
      "Epoch 57/100\n",
      "1/1 [==============================] - 0s 200ms/step - loss: 2.9183\n",
      "Epoch 58/100\n",
      "1/1 [==============================] - 0s 211ms/step - loss: 2.9151\n",
      "Epoch 59/100\n",
      "1/1 [==============================] - 0s 216ms/step - loss: 2.9145\n",
      "Epoch 60/100\n",
      "1/1 [==============================] - 0s 207ms/step - loss: 2.9135\n",
      "Epoch 61/100\n",
      "1/1 [==============================] - 0s 217ms/step - loss: 2.9111\n",
      "Epoch 62/100\n",
      "1/1 [==============================] - 0s 176ms/step - loss: 2.9106\n",
      "Epoch 63/100\n",
      "1/1 [==============================] - 0s 206ms/step - loss: 2.9077\n",
      "Epoch 64/100\n",
      "1/1 [==============================] - 0s 209ms/step - loss: 2.9052\n",
      "Epoch 65/100\n",
      "1/1 [==============================] - 0s 186ms/step - loss: 2.9031\n",
      "Epoch 66/100\n",
      "1/1 [==============================] - 0s 222ms/step - loss: 2.8989\n",
      "Epoch 67/100\n",
      "1/1 [==============================] - 0s 225ms/step - loss: 2.8924\n",
      "Epoch 68/100\n",
      "1/1 [==============================] - 0s 207ms/step - loss: 2.8865\n",
      "Epoch 69/100\n",
      "1/1 [==============================] - 0s 203ms/step - loss: 2.8852\n",
      "Epoch 70/100\n",
      "1/1 [==============================] - 0s 214ms/step - loss: 2.8954\n",
      "Epoch 71/100\n",
      "1/1 [==============================] - 0s 200ms/step - loss: 2.9109\n",
      "Epoch 72/100\n",
      "1/1 [==============================] - 0s 185ms/step - loss: 2.9117\n",
      "Epoch 73/100\n",
      "1/1 [==============================] - 0s 232ms/step - loss: 2.8902\n",
      "Epoch 74/100\n",
      "1/1 [==============================] - 0s 200ms/step - loss: 2.8888\n",
      "Epoch 75/100\n",
      "1/1 [==============================] - 0s 182ms/step - loss: 2.8928\n",
      "Epoch 76/100\n",
      "1/1 [==============================] - 0s 216ms/step - loss: 2.8767\n",
      "Epoch 77/100\n",
      "1/1 [==============================] - 0s 200ms/step - loss: 2.8660\n",
      "Epoch 78/100\n",
      "1/1 [==============================] - 0s 203ms/step - loss: 2.8631\n",
      "Epoch 79/100\n",
      "1/1 [==============================] - 0s 196ms/step - loss: 2.8580\n",
      "Epoch 80/100\n",
      "1/1 [==============================] - 0s 216ms/step - loss: 2.8617\n",
      "Epoch 81/100\n",
      "1/1 [==============================] - 0s 200ms/step - loss: 2.8485\n",
      "Epoch 82/100\n",
      "1/1 [==============================] - 0s 195ms/step - loss: 2.8452\n",
      "Epoch 83/100\n",
      "1/1 [==============================] - 0s 238ms/step - loss: 2.8351\n",
      "Epoch 84/100\n",
      "1/1 [==============================] - 0s 201ms/step - loss: 2.8200\n",
      "Epoch 85/100\n",
      "1/1 [==============================] - 0s 214ms/step - loss: 2.8469\n",
      "Epoch 86/100\n",
      "1/1 [==============================] - 0s 219ms/step - loss: 2.8478\n",
      "Epoch 87/100\n",
      "1/1 [==============================] - 0s 216ms/step - loss: 2.8507\n",
      "Epoch 88/100\n",
      "1/1 [==============================] - 0s 202ms/step - loss: 2.8231\n",
      "Epoch 89/100\n",
      "1/1 [==============================] - 0s 232ms/step - loss: 2.7945\n",
      "Epoch 90/100\n",
      "1/1 [==============================] - 0s 234ms/step - loss: 2.8022\n",
      "Epoch 91/100\n",
      "1/1 [==============================] - 0s 214ms/step - loss: 2.8064\n",
      "Epoch 92/100\n",
      "1/1 [==============================] - 0s 200ms/step - loss: 2.7779\n",
      "Epoch 93/100\n",
      "1/1 [==============================] - 0s 203ms/step - loss: 2.7755\n",
      "Epoch 94/100\n",
      "1/1 [==============================] - 0s 180ms/step - loss: 2.7839\n",
      "Epoch 95/100\n",
      "1/1 [==============================] - 0s 202ms/step - loss: 2.7724\n",
      "Epoch 96/100\n",
      "1/1 [==============================] - 0s 217ms/step - loss: 2.7779\n",
      "Epoch 97/100\n",
      "1/1 [==============================] - 0s 206ms/step - loss: 2.7535\n",
      "Epoch 98/100\n",
      "1/1 [==============================] - 0s 227ms/step - loss: 2.7540\n",
      "Epoch 99/100\n",
      "1/1 [==============================] - 0s 198ms/step - loss: 2.7816\n",
      "Epoch 100/100\n",
      "1/1 [==============================] - 0s 201ms/step - loss: 2.7970\n"
     ]
    },
    {
     "data": {
      "text/plain": [
       "<keras.src.callbacks.History at 0x1c7a78d46d0>"
      ]
     },
     "execution_count": 9,
     "metadata": {},
     "output_type": "execute_result"
    }
   ],
   "source": [
    "# Train the model\n",
    "model.fit(X, y, batch_size=128, epochs=100)"
   ]
  },
  {
   "cell_type": "code",
   "execution_count": 11,
   "id": "2927753f-f5c1-4190-b9e5-0878f814f440",
   "metadata": {},
   "outputs": [],
   "source": [
    "# Save the trained model for future use\n",
    "model.save(\"language_model.h5\")"
   ]
  }
 ],
 "metadata": {
  "kernelspec": {
   "display_name": "Python 3 (ipykernel)",
   "language": "python",
   "name": "python3"
  },
  "language_info": {
   "codemirror_mode": {
    "name": "ipython",
    "version": 3
   },
   "file_extension": ".py",
   "mimetype": "text/x-python",
   "name": "python",
   "nbconvert_exporter": "python",
   "pygments_lexer": "ipython3",
   "version": "3.11.4"
  }
 },
 "nbformat": 4,
 "nbformat_minor": 5
}
