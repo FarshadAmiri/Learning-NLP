{
 "cells": [
  {
   "cell_type": "code",
   "execution_count": null,
   "id": "e971794e-4cee-40af-8749-1738b6375ad7",
   "metadata": {},
   "outputs": [],
   "source": [
    "import csv\n",
    "import os\n",
    "import openai\n",
    "from langchain.embeddings.openai import OpenAIEmbeddings\n",
    "from langchain.chat_models import ChatOpenAI\n",
    "from langchain.chains import ConversationalRetrievalChain\n",
    "from langchain.vectorstores import FAISS\n",
    "from langchain.vectorstores.base import Document"
   ]
  },
  {
   "cell_type": "code",
   "execution_count": null,
   "id": "ee0ff89f-18cd-4fb8-8db4-3f4a15502201",
   "metadata": {},
   "outputs": [],
   "source": [
    "def read_csv_into_vector_document(file, text_cols):\n",
    "    with open(file, newline='') as csv_file:\n",
    "        csv_reader = csv.DictReader(csv_file)\n",
    "        text_data = []\n",
    "        for row in csv_reader:\n",
    "            text = ' '.join([row[col] for col in text_cols])\n",
    "            text_data.append(text)\n",
    "        return [Document(page_content=text) for text in text_data]"
   ]
  },
  {
   "cell_type": "code",
   "execution_count": null,
   "id": "de7be46f-e11d-45fc-a90e-b3433b2ad595",
   "metadata": {},
   "outputs": [],
   "source": [
    "api_key = os.environ.get('OPENAI_API_KEY')\n",
    "if not api_key:\n",
    "    print('OpenAI API key not found in environment variables.')\n",
    "    exit()"
   ]
  },
  {
   "cell_type": "code",
   "execution_count": null,
   "id": "9a7b34ca-a59c-4c35-b26c-bb11a9ec415c",
   "metadata": {},
   "outputs": [],
   "source": [
    "data = read_csv_into_vector_document(\"training.data.csv\", [\"Product ID\", \"Product Category\", \"Product Details\",])\n",
    "embeddings = OpenAIEmbeddings(openai_api_key=api_key)\n",
    "vectors = FAISS.from_documents(data, embeddings)\n",
    "chain = ConversationalRetrievalChain.from_llm(llm=ChatOpenAI(temperature=0.0, model_name='gpt-3.5-turbo', openai_api_key=api_key), retriever=vectors.as_retriever())\n",
    "history = []"
   ]
  },
  {
   "cell_type": "code",
   "execution_count": null,
   "id": "15f4c15d-703d-437b-8900-bcc58a9cdf66",
   "metadata": {},
   "outputs": [],
   "source": [
    "while True:\n",
    "    query = input(\"Enter Your Query:\")\n",
    "    print(chain({\"question\": query, \"chat_history\": history})[\"answer\"])"
   ]
  },
  {
   "cell_type": "markdown",
   "id": "0b648913-5814-4c02-a17e-38ae70896569",
   "metadata": {},
   "source": [
    "Another One"
   ]
  },
  {
   "cell_type": "code",
   "execution_count": null,
   "id": "3a3744a7-436c-4522-aca8-12814f3ec259",
   "metadata": {},
   "outputs": [],
   "source": [
    "from langchain.chat_models import ChatOpenAI\n",
    "from langchain.prompts.chat import (\n",
    "    ChatPromptTemplate,\n",
    "    SystemMessagePromptTemplate,\n",
    "    HumanMessagePromptTemplate,\n",
    ")\n",
    "from langchain.chains import LLMChain\n",
    "from langchain.schema import BaseOutputParser\n",
    "\n",
    "class CommaSeparatedListOutputParser(BaseOutputParser):\n",
    "    \"\"\"Parse the output of an LLM call to a comma-separated list.\"\"\"\n",
    "\n",
    "\n",
    "    def parse(self, text: str):\n",
    "        \"\"\"Parse the output of an LLM call.\"\"\"\n",
    "        return text.strip().split(\", \")\n",
    "\n",
    "template = \"\"\"You are a helpful assistant who generates comma separated lists.\n",
    "A user will pass in a category, and you should generate 5 objects in that category in a comma separated list.\n",
    "ONLY return a comma separated list, and nothing more.\"\"\"\n",
    "system_message_prompt = SystemMessagePromptTemplate.from_template(template)\n",
    "human_template = \"{text}\"\n",
    "human_message_prompt = HumanMessagePromptTemplate.from_template(human_template)\n",
    "\n",
    "chat_prompt = ChatPromptTemplate.from_messages([system_message_prompt, human_message_prompt])\n",
    "chain = LLMChain(\n",
    "    llm=ChatOpenAI(),\n",
    "    prompt=chat_prompt,\n",
    "    output_parser=CommaSeparatedListOutputParser()\n",
    ")\n",
    "chain.run(\"colors\")\n",
    "# >> ['red', 'blue', 'green', 'yellow', 'orange']"
   ]
  }
 ],
 "metadata": {
  "kernelspec": {
   "display_name": "Python 3 (ipykernel)",
   "language": "python",
   "name": "python3"
  },
  "language_info": {
   "codemirror_mode": {
    "name": "ipython",
    "version": 3
   },
   "file_extension": ".py",
   "mimetype": "text/x-python",
   "name": "python",
   "nbconvert_exporter": "python",
   "pygments_lexer": "ipython3",
   "version": "3.11.4"
  }
 },
 "nbformat": 4,
 "nbformat_minor": 5
}
